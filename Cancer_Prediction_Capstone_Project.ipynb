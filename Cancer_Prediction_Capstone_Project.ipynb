{
  "cells": [
    {
      "cell_type": "markdown",
      "id": "926ac1c6",
      "metadata": {
        "id": "926ac1c6"
      },
      "source": [
        "# **CANCER PREDICTION MODEL**"
      ]
    },
    {
      "cell_type": "markdown",
      "id": "35ce254c",
      "metadata": {
        "id": "35ce254c"
      },
      "source": [
        "\n",
        "<img src=\"https://max-website20-images.s3.ap-south-1.amazonaws.com/MHC_Digital_Treatments_Available_For_Blood_Cancer_Part_13_925x389pix_150322n_01_dc4d07f20e.jpg\" width=\"100%\" height=\"100%\" class=\"center\" display = block; margin-left = auto; margin-right = auto />"
      ]
    },
    {
      "cell_type": "markdown",
      "id": "20d81767",
      "metadata": {
        "id": "20d81767"
      },
      "source": [
        "### **Problem Statement** \n",
        "\n",
        "Cancer has become one of the major factors responsible for global deaths, due to late diagnoses and lack of proper treatment. It involves the abnormal and uncontrolled growth of cells inside the body, which might spread from one place to different parts. Ribonucleic acid (RNA) sequencing can detect the changes occurring inside cells and helps to analyze the transcriptome of gene expression patterns inside RNA. Machine learning techniques can assist in the prediction of cancer at an early stage, if data is available. \n",
        "\n",
        "#### **Objectives**\n",
        "The objective for this project is to build models and classify the different cancer types using RNA-seq gene expression data.\n",
        "\n",
        "For this purpose we implemented supervised models to classify the samples collected using the labels and compare the performance of the respective models."
      ]
    },
    {
      "cell_type": "markdown",
      "id": "b05c990e",
      "metadata": {
        "id": "b05c990e"
      },
      "source": [
        "#### **Data Description**\n",
        "The dataset was collected from UCI Machine Learning Repository. The rows represent the observations gene expressions of patients having different types of tumors (cancer types). The last column contains the cancer types as listed below:\n",
        "- BRCA for Breast Cancer\n",
        "- KIRC for Renal Cancer (Kidney Renal Clear Cell Carcinoma)\n",
        "- LUAD for Lung Cancer (Lung adenocarcinoma)\n",
        "- PRAD for Prostate Cancer (Prostate adenocarcinoma)\n",
        "- COAD fro Colon adenocarcinoma\n",
        "\n"
      ]
    },
    {
      "cell_type": "markdown",
      "id": "accd2cb3",
      "metadata": {
        "id": "accd2cb3"
      },
      "source": [
        "## **Machine Learning Workflow**\n",
        "[1. Importing Python Libraries](#Importing-Python-libraries)\n",
        "\n",
        "[2. Importing data](#Importing-data)\n",
        "\n",
        "[3. Data Exploration & Cleaning](#Data-Exploration-&-Cleaning)\n",
        "\n",
        "[4. Data Preprocesing](#Data-preprocesing)\n",
        "\n",
        "[5. Building & Evaluation of Model](#Building-the-model)\n",
        "\n",
        "   * [-KNeighbours Classifier](#KNeighborsClassifier)\n",
        "   \n",
        "   * [-Logistic Regression](#Logistic-Regression)\n",
        "   \n",
        "   * [-SGDClassifier](#SGDClassifier)\n",
        "   * [-RandomForest Classifier](#RandomForestClassifier)\n",
        "   * [-Decision Tree Classifier](#Decision-Tree-Classifier)\n",
        "   * [-Voting Classifier](#VotingClassifier)  \n",
        "   * [-XGBoost](#XGBoost)\n",
        "   * [-BaggingClassifier](#BaggingClassifier)\n",
        "   * [-AdaBoostClassifier](#AdaBoostClassifier)\n",
        "    \n",
        "[6. Result](#RESULT)   "
      ]
    },
    {
      "cell_type": "markdown",
      "id": "91f3dde3",
      "metadata": {
        "id": "91f3dde3"
      },
      "source": [
        "### **Importing  Python libraries**"
      ]
    },
    {
      "cell_type": "code",
      "execution_count": null,
      "id": "a0515dec",
      "metadata": {
        "id": "a0515dec"
      },
      "outputs": [],
      "source": [
        "#data handling\n",
        "import pandas as pd\n",
        "import numpy as np\n",
        "\n",
        "#data visualization\n",
        "import matplotlib.pyplot as plt\n",
        "import seaborn as sns\n",
        "\n",
        "#preprocessing\n",
        "from sklearn.preprocessing import LabelEncoder\n",
        "from sklearn.preprocessing import label_binarize\n",
        "from sklearn.preprocessing import MinMaxScaler\n",
        "from sklearn.preprocessing import StandardScaler\n",
        "from sklearn.preprocessing import RobustScaler\n",
        "\n",
        "#feature selection\n",
        "from sklearn.feature_selection import mutual_info_classif\n",
        "\n",
        "#classification\n",
        "from sklearn.multiclass import OneVsRestClassifier\n",
        "from sklearn.ensemble import RandomForestClassifier\n",
        "from sklearn.linear_model import LogisticRegression\n",
        "from sklearn.tree import DecisionTreeClassifier\n",
        "from sklearn.neighbors import KNeighborsClassifier \n",
        "from sklearn.svm import SVC \n",
        "from sklearn.svm import LinearSVC\n",
        "\n",
        "\n",
        "# performance metrics\n",
        "from sklearn.metrics import balanced_accuracy_score,f1_score,precision_score, recall_score\n",
        "from sklearn.metrics import classification_report\n",
        "from sklearn.metrics import confusion_matrix\n",
        "from sklearn.metrics import plot_confusion_matrix\n",
        "from sklearn.metrics import roc_curve,auc\n",
        "from sklearn.metrics import roc_auc_score\n",
        "from sklearn.metrics import confusion_matrix\n",
        "from sklearn.metrics import accuracy_score\n",
        "\n",
        "\n",
        "#model selection libraries\n",
        "from sklearn.model_selection import train_test_split\n",
        "from sklearn.model_selection import cross_val_score\n",
        "from sklearn.model_selection import GridSearchCV\n",
        "from sklearn.model_selection import RandomizedSearchCV\n",
        "\n",
        "#ensemble libraries\n",
        "from sklearn.ensemble import VotingClassifier\n",
        "from sklearn.ensemble import BaggingClassifier\n",
        "from sklearn.ensemble import GradientBoostingClassifier\n",
        "from sklearn.ensemble import AdaBoostClassifier\n",
        "\n",
        "#XGBoost\n",
        "from xgboost import XGBClassifier\n",
        "\n",
        "\n",
        "#pipipelines\n",
        "from sklearn.pipeline import Pipeline\n",
        "from sklearn.pipeline import make_pipeline\n",
        "\n",
        "\n",
        "# Decomposition\n",
        "from sklearn.discriminant_analysis import LinearDiscriminantAnalysis\n",
        "from sklearn.decomposition import PCA\n",
        "import warnings\n",
        "warnings.filterwarnings('ignore')"
      ]
    },
    {
      "cell_type": "markdown",
      "id": "b45976a3",
      "metadata": {
        "id": "b45976a3"
      },
      "source": [
        "### **Importing data**"
      ]
    },
    {
      "cell_type": "code",
      "execution_count": null,
      "id": "25a5cb29",
      "metadata": {
        "colab": {
          "base_uri": "https://localhost:8080/",
          "height": 237
        },
        "id": "25a5cb29",
        "outputId": "3761dc03-270c-48e3-a8a6-a79833f4b66a"
      },
      "outputs": [
        {
          "output_type": "execute_result",
          "data": {
            "text/plain": [
              "   gene_1  gene_2  gene_3    gene_4  gene_5  gene_6  gene_7  gene_8    gene_9  \\\n",
              "0     0.0     0.0     0.0  2.088413     0.0     0.0     0.0     0.0  0.550605   \n",
              "1     0.0     0.0     0.0  3.205955     0.0     0.0     0.0     0.0  0.425244   \n",
              "2     0.0     0.0     0.0  4.746646     0.0     0.0     0.0     0.0  2.639417   \n",
              "\n",
              "    gene_10  ...  gene_7992  gene_7993  gene_7994  gene_7995  gene_7996  \\\n",
              "0  2.815760  ...  11.558803   8.881802   6.014840   6.643534  11.740624   \n",
              "1  2.354396  ...  11.062829   9.032864   5.054193   6.432320  12.104985   \n",
              "2  1.657091  ...  12.497640   7.198160   0.943434   7.371690  11.202356   \n",
              "\n",
              "   gene_7997  gene_7998  gene_7999  gene_8000  Cancer_Type  \n",
              "0   7.065012   9.932659   6.928584   2.088413         KIRC  \n",
              "1   7.300746   9.872796   5.039231   2.448002         KIRC  \n",
              "2   8.426588  11.176890   3.119738   4.433988         BRCA  \n",
              "\n",
              "[3 rows x 8001 columns]"
            ],
            "text/html": [
              "\n",
              "  <div id=\"df-5dce092a-a4ac-4d76-835c-c53c640c6d5d\">\n",
              "    <div class=\"colab-df-container\">\n",
              "      <div>\n",
              "<style scoped>\n",
              "    .dataframe tbody tr th:only-of-type {\n",
              "        vertical-align: middle;\n",
              "    }\n",
              "\n",
              "    .dataframe tbody tr th {\n",
              "        vertical-align: top;\n",
              "    }\n",
              "\n",
              "    .dataframe thead th {\n",
              "        text-align: right;\n",
              "    }\n",
              "</style>\n",
              "<table border=\"1\" class=\"dataframe\">\n",
              "  <thead>\n",
              "    <tr style=\"text-align: right;\">\n",
              "      <th></th>\n",
              "      <th>gene_1</th>\n",
              "      <th>gene_2</th>\n",
              "      <th>gene_3</th>\n",
              "      <th>gene_4</th>\n",
              "      <th>gene_5</th>\n",
              "      <th>gene_6</th>\n",
              "      <th>gene_7</th>\n",
              "      <th>gene_8</th>\n",
              "      <th>gene_9</th>\n",
              "      <th>gene_10</th>\n",
              "      <th>...</th>\n",
              "      <th>gene_7992</th>\n",
              "      <th>gene_7993</th>\n",
              "      <th>gene_7994</th>\n",
              "      <th>gene_7995</th>\n",
              "      <th>gene_7996</th>\n",
              "      <th>gene_7997</th>\n",
              "      <th>gene_7998</th>\n",
              "      <th>gene_7999</th>\n",
              "      <th>gene_8000</th>\n",
              "      <th>Cancer_Type</th>\n",
              "    </tr>\n",
              "  </thead>\n",
              "  <tbody>\n",
              "    <tr>\n",
              "      <th>0</th>\n",
              "      <td>0.0</td>\n",
              "      <td>0.0</td>\n",
              "      <td>0.0</td>\n",
              "      <td>2.088413</td>\n",
              "      <td>0.0</td>\n",
              "      <td>0.0</td>\n",
              "      <td>0.0</td>\n",
              "      <td>0.0</td>\n",
              "      <td>0.550605</td>\n",
              "      <td>2.815760</td>\n",
              "      <td>...</td>\n",
              "      <td>11.558803</td>\n",
              "      <td>8.881802</td>\n",
              "      <td>6.014840</td>\n",
              "      <td>6.643534</td>\n",
              "      <td>11.740624</td>\n",
              "      <td>7.065012</td>\n",
              "      <td>9.932659</td>\n",
              "      <td>6.928584</td>\n",
              "      <td>2.088413</td>\n",
              "      <td>KIRC</td>\n",
              "    </tr>\n",
              "    <tr>\n",
              "      <th>1</th>\n",
              "      <td>0.0</td>\n",
              "      <td>0.0</td>\n",
              "      <td>0.0</td>\n",
              "      <td>3.205955</td>\n",
              "      <td>0.0</td>\n",
              "      <td>0.0</td>\n",
              "      <td>0.0</td>\n",
              "      <td>0.0</td>\n",
              "      <td>0.425244</td>\n",
              "      <td>2.354396</td>\n",
              "      <td>...</td>\n",
              "      <td>11.062829</td>\n",
              "      <td>9.032864</td>\n",
              "      <td>5.054193</td>\n",
              "      <td>6.432320</td>\n",
              "      <td>12.104985</td>\n",
              "      <td>7.300746</td>\n",
              "      <td>9.872796</td>\n",
              "      <td>5.039231</td>\n",
              "      <td>2.448002</td>\n",
              "      <td>KIRC</td>\n",
              "    </tr>\n",
              "    <tr>\n",
              "      <th>2</th>\n",
              "      <td>0.0</td>\n",
              "      <td>0.0</td>\n",
              "      <td>0.0</td>\n",
              "      <td>4.746646</td>\n",
              "      <td>0.0</td>\n",
              "      <td>0.0</td>\n",
              "      <td>0.0</td>\n",
              "      <td>0.0</td>\n",
              "      <td>2.639417</td>\n",
              "      <td>1.657091</td>\n",
              "      <td>...</td>\n",
              "      <td>12.497640</td>\n",
              "      <td>7.198160</td>\n",
              "      <td>0.943434</td>\n",
              "      <td>7.371690</td>\n",
              "      <td>11.202356</td>\n",
              "      <td>8.426588</td>\n",
              "      <td>11.176890</td>\n",
              "      <td>3.119738</td>\n",
              "      <td>4.433988</td>\n",
              "      <td>BRCA</td>\n",
              "    </tr>\n",
              "  </tbody>\n",
              "</table>\n",
              "<p>3 rows × 8001 columns</p>\n",
              "</div>\n",
              "      <button class=\"colab-df-convert\" onclick=\"convertToInteractive('df-5dce092a-a4ac-4d76-835c-c53c640c6d5d')\"\n",
              "              title=\"Convert this dataframe to an interactive table.\"\n",
              "              style=\"display:none;\">\n",
              "        \n",
              "  <svg xmlns=\"http://www.w3.org/2000/svg\" height=\"24px\"viewBox=\"0 0 24 24\"\n",
              "       width=\"24px\">\n",
              "    <path d=\"M0 0h24v24H0V0z\" fill=\"none\"/>\n",
              "    <path d=\"M18.56 5.44l.94 2.06.94-2.06 2.06-.94-2.06-.94-.94-2.06-.94 2.06-2.06.94zm-11 1L8.5 8.5l.94-2.06 2.06-.94-2.06-.94L8.5 2.5l-.94 2.06-2.06.94zm10 10l.94 2.06.94-2.06 2.06-.94-2.06-.94-.94-2.06-.94 2.06-2.06.94z\"/><path d=\"M17.41 7.96l-1.37-1.37c-.4-.4-.92-.59-1.43-.59-.52 0-1.04.2-1.43.59L10.3 9.45l-7.72 7.72c-.78.78-.78 2.05 0 2.83L4 21.41c.39.39.9.59 1.41.59.51 0 1.02-.2 1.41-.59l7.78-7.78 2.81-2.81c.8-.78.8-2.07 0-2.86zM5.41 20L4 18.59l7.72-7.72 1.47 1.35L5.41 20z\"/>\n",
              "  </svg>\n",
              "      </button>\n",
              "      \n",
              "  <style>\n",
              "    .colab-df-container {\n",
              "      display:flex;\n",
              "      flex-wrap:wrap;\n",
              "      gap: 12px;\n",
              "    }\n",
              "\n",
              "    .colab-df-convert {\n",
              "      background-color: #E8F0FE;\n",
              "      border: none;\n",
              "      border-radius: 50%;\n",
              "      cursor: pointer;\n",
              "      display: none;\n",
              "      fill: #1967D2;\n",
              "      height: 32px;\n",
              "      padding: 0 0 0 0;\n",
              "      width: 32px;\n",
              "    }\n",
              "\n",
              "    .colab-df-convert:hover {\n",
              "      background-color: #E2EBFA;\n",
              "      box-shadow: 0px 1px 2px rgba(60, 64, 67, 0.3), 0px 1px 3px 1px rgba(60, 64, 67, 0.15);\n",
              "      fill: #174EA6;\n",
              "    }\n",
              "\n",
              "    [theme=dark] .colab-df-convert {\n",
              "      background-color: #3B4455;\n",
              "      fill: #D2E3FC;\n",
              "    }\n",
              "\n",
              "    [theme=dark] .colab-df-convert:hover {\n",
              "      background-color: #434B5C;\n",
              "      box-shadow: 0px 1px 3px 1px rgba(0, 0, 0, 0.15);\n",
              "      filter: drop-shadow(0px 1px 2px rgba(0, 0, 0, 0.3));\n",
              "      fill: #FFFFFF;\n",
              "    }\n",
              "  </style>\n",
              "\n",
              "      <script>\n",
              "        const buttonEl =\n",
              "          document.querySelector('#df-5dce092a-a4ac-4d76-835c-c53c640c6d5d button.colab-df-convert');\n",
              "        buttonEl.style.display =\n",
              "          google.colab.kernel.accessAllowed ? 'block' : 'none';\n",
              "\n",
              "        async function convertToInteractive(key) {\n",
              "          const element = document.querySelector('#df-5dce092a-a4ac-4d76-835c-c53c640c6d5d');\n",
              "          const dataTable =\n",
              "            await google.colab.kernel.invokeFunction('convertToInteractive',\n",
              "                                                     [key], {});\n",
              "          if (!dataTable) return;\n",
              "\n",
              "          const docLinkHtml = 'Like what you see? Visit the ' +\n",
              "            '<a target=\"_blank\" href=https://colab.research.google.com/notebooks/data_table.ipynb>data table notebook</a>'\n",
              "            + ' to learn more about interactive tables.';\n",
              "          element.innerHTML = '';\n",
              "          dataTable['output_type'] = 'display_data';\n",
              "          await google.colab.output.renderOutput(dataTable, element);\n",
              "          const docLink = document.createElement('div');\n",
              "          docLink.innerHTML = docLinkHtml;\n",
              "          element.appendChild(docLink);\n",
              "        }\n",
              "      </script>\n",
              "    </div>\n",
              "  </div>\n",
              "  "
            ]
          },
          "metadata": {},
          "execution_count": 3
        }
      ],
      "source": [
        "\n",
        "#Importing data \n",
        "\n",
        "cancer_data = pd.read_csv('cancer_gene_expression.csv')\n",
        "cancer_data.head(3)\n"
      ]
    },
    {
      "cell_type": "code",
      "execution_count": null,
      "id": "a2f2cfb8",
      "metadata": {
        "id": "a2f2cfb8"
      },
      "outputs": [],
      "source": []
    },
    {
      "cell_type": "markdown",
      "id": "e214ad93",
      "metadata": {
        "id": "e214ad93"
      },
      "source": [
        "### **Data Exploration & Cleaning**\n",
        "\n",
        "\n"
      ]
    },
    {
      "cell_type": "code",
      "execution_count": null,
      "id": "18e48d71",
      "metadata": {
        "scrolled": true,
        "colab": {
          "base_uri": "https://localhost:8080/"
        },
        "id": "18e48d71",
        "outputId": "f09c3062-4bd0-4d9a-cd8c-d94e33c18b2a"
      },
      "outputs": [
        {
          "output_type": "execute_result",
          "data": {
            "text/plain": [
              "(801, 8001)"
            ]
          },
          "metadata": {},
          "execution_count": 4
        }
      ],
      "source": [
        "#let's check the number of samples and features\n",
        "#note:the last column contain the labels. it is not considered as a feature\n",
        "\n",
        "cancer_data.shape"
      ]
    },
    {
      "cell_type": "code",
      "execution_count": null,
      "id": "5ff6d860",
      "metadata": {
        "colab": {
          "base_uri": "https://localhost:8080/"
        },
        "id": "5ff6d860",
        "outputId": "7281e3c7-61ca-4249-eb62-d891e2550797"
      },
      "outputs": [
        {
          "output_type": "stream",
          "name": "stdout",
          "text": [
            "columns with missing values:0\n"
          ]
        }
      ],
      "source": [
        "#check for missing values\n",
        "datanul=cancer_data.isnull().sum()\n",
        "g=[i for i in datanul if i>0]\n",
        "\n",
        "print('columns with missing values:%d'%len(g))"
      ]
    },
    {
      "cell_type": "code",
      "source": [
        "#checking for duplicates\n",
        "cancer_data[cancer_data.duplicated()]"
      ],
      "metadata": {
        "colab": {
          "base_uri": "https://localhost:8080/",
          "height": 143
        },
        "id": "_udTXlPDqH9O",
        "outputId": "3244b3db-d14a-4ad7-ba57-51c0083de6df"
      },
      "id": "_udTXlPDqH9O",
      "execution_count": null,
      "outputs": [
        {
          "output_type": "execute_result",
          "data": {
            "text/plain": [
              "Empty DataFrame\n",
              "Columns: [gene_1, gene_2, gene_3, gene_4, gene_5, gene_6, gene_7, gene_8, gene_9, gene_10, gene_11, gene_12, gene_13, gene_14, gene_15, gene_16, gene_17, gene_18, gene_19, gene_20, gene_21, gene_22, gene_23, gene_24, gene_25, gene_26, gene_27, gene_28, gene_29, gene_30, gene_31, gene_32, gene_33, gene_34, gene_35, gene_36, gene_37, gene_38, gene_39, gene_40, gene_41, gene_42, gene_43, gene_44, gene_45, gene_46, gene_47, gene_48, gene_49, gene_50, gene_51, gene_52, gene_53, gene_54, gene_55, gene_56, gene_57, gene_58, gene_59, gene_60, gene_61, gene_62, gene_63, gene_64, gene_65, gene_66, gene_67, gene_68, gene_69, gene_70, gene_71, gene_72, gene_73, gene_74, gene_75, gene_76, gene_77, gene_78, gene_79, gene_80, gene_81, gene_82, gene_83, gene_84, gene_85, gene_86, gene_87, gene_88, gene_89, gene_90, gene_91, gene_92, gene_93, gene_94, gene_95, gene_96, gene_97, gene_98, gene_99, gene_100, ...]\n",
              "Index: []\n",
              "\n",
              "[0 rows x 8001 columns]"
            ],
            "text/html": [
              "\n",
              "  <div id=\"df-b8405d6a-0bfa-47a5-89de-55869ed94974\">\n",
              "    <div class=\"colab-df-container\">\n",
              "      <div>\n",
              "<style scoped>\n",
              "    .dataframe tbody tr th:only-of-type {\n",
              "        vertical-align: middle;\n",
              "    }\n",
              "\n",
              "    .dataframe tbody tr th {\n",
              "        vertical-align: top;\n",
              "    }\n",
              "\n",
              "    .dataframe thead th {\n",
              "        text-align: right;\n",
              "    }\n",
              "</style>\n",
              "<table border=\"1\" class=\"dataframe\">\n",
              "  <thead>\n",
              "    <tr style=\"text-align: right;\">\n",
              "      <th></th>\n",
              "      <th>gene_1</th>\n",
              "      <th>gene_2</th>\n",
              "      <th>gene_3</th>\n",
              "      <th>gene_4</th>\n",
              "      <th>gene_5</th>\n",
              "      <th>gene_6</th>\n",
              "      <th>gene_7</th>\n",
              "      <th>gene_8</th>\n",
              "      <th>gene_9</th>\n",
              "      <th>gene_10</th>\n",
              "      <th>...</th>\n",
              "      <th>gene_7992</th>\n",
              "      <th>gene_7993</th>\n",
              "      <th>gene_7994</th>\n",
              "      <th>gene_7995</th>\n",
              "      <th>gene_7996</th>\n",
              "      <th>gene_7997</th>\n",
              "      <th>gene_7998</th>\n",
              "      <th>gene_7999</th>\n",
              "      <th>gene_8000</th>\n",
              "      <th>Cancer_Type</th>\n",
              "    </tr>\n",
              "  </thead>\n",
              "  <tbody>\n",
              "  </tbody>\n",
              "</table>\n",
              "<p>0 rows × 8001 columns</p>\n",
              "</div>\n",
              "      <button class=\"colab-df-convert\" onclick=\"convertToInteractive('df-b8405d6a-0bfa-47a5-89de-55869ed94974')\"\n",
              "              title=\"Convert this dataframe to an interactive table.\"\n",
              "              style=\"display:none;\">\n",
              "        \n",
              "  <svg xmlns=\"http://www.w3.org/2000/svg\" height=\"24px\"viewBox=\"0 0 24 24\"\n",
              "       width=\"24px\">\n",
              "    <path d=\"M0 0h24v24H0V0z\" fill=\"none\"/>\n",
              "    <path d=\"M18.56 5.44l.94 2.06.94-2.06 2.06-.94-2.06-.94-.94-2.06-.94 2.06-2.06.94zm-11 1L8.5 8.5l.94-2.06 2.06-.94-2.06-.94L8.5 2.5l-.94 2.06-2.06.94zm10 10l.94 2.06.94-2.06 2.06-.94-2.06-.94-.94-2.06-.94 2.06-2.06.94z\"/><path d=\"M17.41 7.96l-1.37-1.37c-.4-.4-.92-.59-1.43-.59-.52 0-1.04.2-1.43.59L10.3 9.45l-7.72 7.72c-.78.78-.78 2.05 0 2.83L4 21.41c.39.39.9.59 1.41.59.51 0 1.02-.2 1.41-.59l7.78-7.78 2.81-2.81c.8-.78.8-2.07 0-2.86zM5.41 20L4 18.59l7.72-7.72 1.47 1.35L5.41 20z\"/>\n",
              "  </svg>\n",
              "      </button>\n",
              "      \n",
              "  <style>\n",
              "    .colab-df-container {\n",
              "      display:flex;\n",
              "      flex-wrap:wrap;\n",
              "      gap: 12px;\n",
              "    }\n",
              "\n",
              "    .colab-df-convert {\n",
              "      background-color: #E8F0FE;\n",
              "      border: none;\n",
              "      border-radius: 50%;\n",
              "      cursor: pointer;\n",
              "      display: none;\n",
              "      fill: #1967D2;\n",
              "      height: 32px;\n",
              "      padding: 0 0 0 0;\n",
              "      width: 32px;\n",
              "    }\n",
              "\n",
              "    .colab-df-convert:hover {\n",
              "      background-color: #E2EBFA;\n",
              "      box-shadow: 0px 1px 2px rgba(60, 64, 67, 0.3), 0px 1px 3px 1px rgba(60, 64, 67, 0.15);\n",
              "      fill: #174EA6;\n",
              "    }\n",
              "\n",
              "    [theme=dark] .colab-df-convert {\n",
              "      background-color: #3B4455;\n",
              "      fill: #D2E3FC;\n",
              "    }\n",
              "\n",
              "    [theme=dark] .colab-df-convert:hover {\n",
              "      background-color: #434B5C;\n",
              "      box-shadow: 0px 1px 3px 1px rgba(0, 0, 0, 0.15);\n",
              "      filter: drop-shadow(0px 1px 2px rgba(0, 0, 0, 0.3));\n",
              "      fill: #FFFFFF;\n",
              "    }\n",
              "  </style>\n",
              "\n",
              "      <script>\n",
              "        const buttonEl =\n",
              "          document.querySelector('#df-b8405d6a-0bfa-47a5-89de-55869ed94974 button.colab-df-convert');\n",
              "        buttonEl.style.display =\n",
              "          google.colab.kernel.accessAllowed ? 'block' : 'none';\n",
              "\n",
              "        async function convertToInteractive(key) {\n",
              "          const element = document.querySelector('#df-b8405d6a-0bfa-47a5-89de-55869ed94974');\n",
              "          const dataTable =\n",
              "            await google.colab.kernel.invokeFunction('convertToInteractive',\n",
              "                                                     [key], {});\n",
              "          if (!dataTable) return;\n",
              "\n",
              "          const docLinkHtml = 'Like what you see? Visit the ' +\n",
              "            '<a target=\"_blank\" href=https://colab.research.google.com/notebooks/data_table.ipynb>data table notebook</a>'\n",
              "            + ' to learn more about interactive tables.';\n",
              "          element.innerHTML = '';\n",
              "          dataTable['output_type'] = 'display_data';\n",
              "          await google.colab.output.renderOutput(dataTable, element);\n",
              "          const docLink = document.createElement('div');\n",
              "          docLink.innerHTML = docLinkHtml;\n",
              "          element.appendChild(docLink);\n",
              "        }\n",
              "      </script>\n",
              "    </div>\n",
              "  </div>\n",
              "  "
            ]
          },
          "metadata": {},
          "execution_count": 6
        }
      ]
    },
    {
      "cell_type": "code",
      "source": [
        "cancer_data.duplicated().sum()\n",
        "print(\"The dataset contains {} duplicates, and it's cleaned \".format(cancer_data.duplicated().sum()))"
      ],
      "metadata": {
        "colab": {
          "base_uri": "https://localhost:8080/"
        },
        "id": "7Rkok7BvqS62",
        "outputId": "e78e7e6e-bc74-4c61-be1e-881e0c2eb842"
      },
      "id": "7Rkok7BvqS62",
      "execution_count": null,
      "outputs": [
        {
          "output_type": "stream",
          "name": "stdout",
          "text": [
            "The dataset contains 0 duplicates, and it's cleaned \n"
          ]
        }
      ]
    },
    {
      "cell_type": "code",
      "source": [],
      "metadata": {
        "id": "haqS0oZFqTTL"
      },
      "id": "haqS0oZFqTTL",
      "execution_count": null,
      "outputs": []
    },
    {
      "cell_type": "markdown",
      "source": [
        "#### **Exploratory Data Analysis**"
      ],
      "metadata": {
        "id": "wS5BbRoZqiV-"
      },
      "id": "wS5BbRoZqiV-"
    },
    {
      "cell_type": "code",
      "execution_count": null,
      "id": "f04d3638",
      "metadata": {
        "id": "f04d3638",
        "outputId": "cb75fa2e-36c8-4e81-d64b-9bfc57737163"
      },
      "outputs": [
        {
          "data": {
            "text/plain": [
              "Text(0.5, 0, 'Standard Deviation')"
            ]
          },
          "execution_count": 7,
          "metadata": {},
          "output_type": "execute_result"
        },
        {
          "data": {
            "image/png": "[encoded data removed]",
            "text/plain": [
              "<Figure size 432x288 with 1 Axes>"
            ]
          },
          "metadata": {
            "needs_background": "light"
          },
          "output_type": "display_data"
        }
      ],
      "source": [
        "plt.hist(cancer_data.iloc[:,:-1].std())\n",
        "plt.title('Distribution of Standard deviation across features')\n",
        "plt.xlabel('Standard Deviation')"
      ]
    },
    {
      "cell_type": "code",
      "execution_count": null,
      "id": "cf1c0103",
      "metadata": {
        "id": "cf1c0103",
        "outputId": "8ca40081-aed8-44fe-93e4-29fe95da344f"
      },
      "outputs": [
        {
          "data": {
            "text/plain": [
              "Text(0.5, 0, 'Mean')"
            ]
          },
          "execution_count": 8,
          "metadata": {},
          "output_type": "execute_result"
        },
        {
          "data": {
            "image/png": "[encoded data removed]",
            "text/plain": [
              "<Figure size 432x288 with 1 Axes>"
            ]
          },
          "metadata": {
            "needs_background": "light"
          },
          "output_type": "display_data"
        }
      ],
      "source": [
        "plt.hist(cancer_data.iloc[:,:-1].mean())\n",
        "plt.title('Distribution of Mean across features')\n",
        "plt.xlabel('Mean')"
      ]
    },
    {
      "cell_type": "markdown",
      "id": "9b27902e",
      "metadata": {
        "id": "9b27902e"
      },
      "source": [
        " Based on the graphs above it is noted that although most of the columns have their mean around 0, the standard deviation of the various columns are around 0.5.\n",
        " SInce it is required the standard deviation be 1 for normally distributed data, it is concluded that the data needs to be preprocessed with a scaler before building of models. This will normalize the data and improve effectiveness of the models"
      ]
    },
    {
      "cell_type": "code",
      "source": [],
      "metadata": {
        "id": "SMXXXrbTqFMN"
      },
      "id": "SMXXXrbTqFMN",
      "execution_count": null,
      "outputs": []
    },
    {
      "cell_type": "code",
      "execution_count": null,
      "id": "229679e0",
      "metadata": {
        "colab": {
          "base_uri": "https://localhost:8080/",
          "height": 35
        },
        "id": "229679e0",
        "outputId": "64dd6feb-7a8c-4c19-8cd9-cda5f1e3b5bb"
      },
      "outputs": [
        {
          "output_type": "execute_result",
          "data": {
            "text/plain": [
              "'Cancer_Type'"
            ],
            "application/vnd.google.colaboratory.intrinsic+json": {
              "type": "string"
            }
          },
          "metadata": {},
          "execution_count": 9
        }
      ],
      "source": [
        "#lets check the name of the last column of this dataframe\n",
        "cancer_data.columns[-1]"
      ]
    },
    {
      "cell_type": "code",
      "execution_count": null,
      "id": "d0560c5a",
      "metadata": {
        "scrolled": true,
        "colab": {
          "base_uri": "https://localhost:8080/"
        },
        "id": "d0560c5a",
        "outputId": "70ab2cac-dcbd-4818-c4e3-58cda9b0774d"
      },
      "outputs": [
        {
          "output_type": "stream",
          "name": "stdout",
          "text": [
            "BRCA    300\n",
            "KIRC    146\n",
            "LUAD    141\n",
            "PRAD    136\n",
            "COAD     78\n",
            "Name: Cancer_Type, dtype: int64\n"
          ]
        }
      ],
      "source": [
        "#checking the counts of the different cancer types that are in the data\n",
        "\n",
        "print(cancer_data['Cancer_Type'].value_counts())"
      ]
    },
    {
      "cell_type": "markdown",
      "id": "046d64c6",
      "metadata": {
        "id": "046d64c6"
      },
      "source": [
        " It is noted that there are 5 classes/cancer types. Although the count of BRCA is quite high, it doesn't indicate imbalance that will throw of the effectiveness of the machine learning models"
      ]
    },
    {
      "cell_type": "code",
      "execution_count": null,
      "id": "93990c7a",
      "metadata": {
        "scrolled": false,
        "colab": {
          "base_uri": "https://localhost:8080/",
          "height": 301
        },
        "id": "93990c7a",
        "outputId": "ff15c1e5-96b5-4069-8dd0-0783abe9b923"
      },
      "outputs": [
        {
          "output_type": "execute_result",
          "data": {
            "text/plain": [
              "<matplotlib.axes._subplots.AxesSubplot at 0x7fd6fb320910>"
            ]
          },
          "metadata": {},
          "execution_count": 11
        },
        {
          "output_type": "display_data",
          "data": {
            "text/plain": [
              "<Figure size 432x288 with 1 Axes>"
            ],
            "image/png": "[encoded data removed]"
          },
          "metadata": {
            "needs_background": "light"
          }
        }
      ],
      "source": [
        "#plot a bar chat to display the class distribution\n",
        "\n",
        "cancer_data['Cancer_Type'].value_counts().plot.bar()"
      ]
    },
    {
      "cell_type": "code",
      "execution_count": null,
      "id": "dcdd52c2",
      "metadata": {
        "id": "dcdd52c2"
      },
      "outputs": [],
      "source": []
    },
    {
      "cell_type": "markdown",
      "id": "7a0e165b",
      "metadata": {
        "id": "7a0e165b"
      },
      "source": [
        " \n",
        "### **Data preprocesing** \n",
        "The data is first separated into features and a target variable after which the classes are encoded as numeric type\n"
      ]
    },
    {
      "cell_type": "code",
      "execution_count": null,
      "id": "03d4b489",
      "metadata": {
        "colab": {
          "base_uri": "https://localhost:8080/"
        },
        "id": "03d4b489",
        "outputId": "61646a03-5275-4dd2-df72-445d6f047874"
      },
      "outputs": [
        {
          "output_type": "stream",
          "name": "stdout",
          "text": [
            "X\n",
            "   gene_1  gene_2  gene_3    gene_4  gene_5  gene_6  gene_7  gene_8    gene_9  \\\n",
            "0     0.0     0.0     0.0  2.088413     0.0     0.0     0.0     0.0  0.550605   \n",
            "\n",
            "   gene_10  ...  gene_7991  gene_7992  gene_7993  gene_7994  gene_7995  \\\n",
            "0  2.81576  ...   6.883022  11.558803   8.881802    6.01484   6.643534   \n",
            "\n",
            "   gene_7996  gene_7997  gene_7998  gene_7999  gene_8000  \n",
            "0  11.740624   7.065012   9.932659   6.928584   2.088413  \n",
            "\n",
            "[1 rows x 8000 columns]\n",
            "\n",
            "y\n",
            "0    KIRC\n",
            "1    KIRC\n",
            "2    BRCA\n",
            "3    KIRC\n",
            "4    COAD\n",
            "Name: Cancer_Type, dtype: object\n"
          ]
        }
      ],
      "source": [
        "# 1. Separating data into features (X) and the target (y)\n",
        "X = cancer_data.drop(['Cancer_Type'], axis =1)\n",
        "y = cancer_data['Cancer_Type']\n",
        "\n",
        "print('X')\n",
        "print(X.head(1))\n",
        "print()\n",
        "print('y')\n",
        "print(y.head())"
      ]
    },
    {
      "cell_type": "code",
      "execution_count": null,
      "id": "bf36b8de",
      "metadata": {
        "id": "bf36b8de"
      },
      "outputs": [],
      "source": []
    },
    {
      "cell_type": "markdown",
      "id": "264a01cb",
      "metadata": {
        "id": "264a01cb"
      },
      "source": [
        "\\\n",
        "**Encode labels**\n",
        "\n",
        "The labels for this data are categorical and we therefore have to convert them to numeric forms. This is referred to as encoding. Machine learning models usually require input data to be in numeric forms, hence we encoding the labels."
      ]
    },
    {
      "cell_type": "code",
      "execution_count": null,
      "id": "b251f08b",
      "metadata": {
        "id": "b251f08b"
      },
      "outputs": [],
      "source": [
        "#let's encode target labels (y) with values between 0 and n_classes-1.\n",
        "#encoding will be done using the LabelEncoder\n",
        "label_encoder=LabelEncoder()\n",
        "label_encoder.fit(y)\n",
        "y_encoded=label_encoder.transform(y)\n",
        "labels=label_encoder.classes_\n",
        "classes=np.unique(y_encoded)"
      ]
    },
    {
      "cell_type": "code",
      "execution_count": null,
      "id": "4769ffe6",
      "metadata": {
        "colab": {
          "base_uri": "https://localhost:8080/"
        },
        "id": "4769ffe6",
        "outputId": "174db4e5-5518-47fc-f24d-9a0c823f76a0"
      },
      "outputs": [
        {
          "output_type": "execute_result",
          "data": {
            "text/plain": [
              "array(['BRCA', 'COAD', 'KIRC', 'LUAD', 'PRAD'], dtype=object)"
            ]
          },
          "metadata": {},
          "execution_count": 14
        }
      ],
      "source": [
        "labels"
      ]
    },
    {
      "cell_type": "code",
      "execution_count": null,
      "id": "8a567de8",
      "metadata": {
        "colab": {
          "base_uri": "https://localhost:8080/"
        },
        "id": "8a567de8",
        "outputId": "0844daf4-c8e1-4c3a-abbe-ae6fa35d7984"
      },
      "outputs": [
        {
          "output_type": "execute_result",
          "data": {
            "text/plain": [
              "array([0, 1, 2, 3, 4])"
            ]
          },
          "metadata": {},
          "execution_count": 15
        }
      ],
      "source": [
        "classes"
      ]
    },
    {
      "cell_type": "markdown",
      "source": [
        "### **Feature Engineering to Reduce Dimensionality**\n",
        "\n",
        "#### **Principal Component Analysis VRS Linear Discriminant Analysis**"
      ],
      "metadata": {
        "id": "t-r4DZ-Frm7_"
      },
      "id": "t-r4DZ-Frm7_"
    },
    {
      "cell_type": "code",
      "execution_count": null,
      "id": "97640002",
      "metadata": {
        "colab": {
          "base_uri": "https://localhost:8080/",
          "height": 309
        },
        "id": "97640002",
        "outputId": "52374315-4e8a-4174-9a48-7551619daa24"
      },
      "outputs": [
        {
          "output_type": "display_data",
          "data": {
            "text/plain": [
              "<Figure size 972x288 with 2 Axes>"
            ],
            "image/png": "[encoded data removed]"
          },
          "metadata": {
            "needs_background": "light"
          }
        }
      ],
      "source": [
        "sc = StandardScaler()\n",
        "X_scaled = sc.fit_transform(X)\n",
        "\n",
        "pca = PCA(n_components=250)\n",
        "X_pca = pca.fit_transform(X_scaled)\n",
        "\n",
        "lda = LinearDiscriminantAnalysis(n_components= 4, solver='svd')\n",
        "X_lda = lda.fit_transform(X, y)\n",
        "\n",
        "fig, ax = plt.subplots(nrows=1, ncols=2, figsize=(13.5 ,4))\n",
        "sns.scatterplot(X_pca[:,0], X_pca[:,1], hue=y, palette='Set1', ax=ax[0])\n",
        "sns.scatterplot(X_lda[:,0], X_lda[:,1], hue=y, palette='Set1', ax=ax[1])\n",
        "ax[0].set_title(\"PCA of Cancer dataset\", fontsize=15, pad=15)\n",
        "ax[1].set_title(\"LDA of Cancer dataset\", fontsize=15, pad=15)\n",
        "ax[0].set_xlabel(\"PC1\", fontsize=12)\n",
        "ax[0].set_ylabel(\"PC2\", fontsize=12)\n",
        "ax[1].set_xlabel(\"LD1\", fontsize=12)\n",
        "ax[1].set_ylabel(\"LD2\", fontsize=12)\n",
        "plt.savefig('PCA vs LDA.png', dpi=80)"
      ]
    },
    {
      "cell_type": "markdown",
      "source": [
        "- LDA is typically used for multi-class classification. It is a dimensionality reduction technique that best separates or discriminates (hence the name LDA) training instances by their classes. \n",
        "\n",
        "- From the graph it can been see that it perfectly separates the class labels whiles reducing the columns.\n",
        "\n",
        "\n",
        "- The major difference between LDA and PCA is that LDA finds a linear combination of input features that optimizes class separability while PCA attempts to find a set of uncorrelated components of maximum variance in a dataset. \n",
        "\n",
        "- Another key difference between the two is that PCA is an unsupervised algorithm whereas LDA is a supervised algorithm where it takes class labels into account.\n",
        "\n",
        "**In this project we will use LDA for our analysis.**"
      ],
      "metadata": {
        "id": "z3YFKa3P8D6b"
      },
      "id": "z3YFKa3P8D6b"
    },
    {
      "cell_type": "markdown",
      "id": "5f68c4f6",
      "metadata": {
        "id": "5f68c4f6"
      },
      "source": [
        "\\\n",
        "**Data Splitting**\\\n",
        "The data will now split into training and test subsets.\n",
        "The training data is initially passed to the machine learning model during fitting. This is to enable the model to identify patterns which can be used to make future predictions.\n",
        "The testing data is used to evaluate the model after the training phase."
      ]
    },
    {
      "cell_type": "code",
      "execution_count": null,
      "id": "6fada994",
      "metadata": {
        "id": "6fada994"
      },
      "outputs": [],
      "source": [
        "#split data into training and test sets\n",
        "X_train,X_test,y_train,y_test=train_test_split(X_lda,y_encoded,test_size=0.2,random_state = 42)"
      ]
    },
    {
      "cell_type": "markdown",
      "id": "988beea5",
      "metadata": {
        "id": "988beea5"
      },
      "source": [
        "### **Building the models**"
      ]
    },
    {
      "cell_type": "markdown",
      "id": "7ca03b28",
      "metadata": {
        "id": "7ca03b28"
      },
      "source": [
        "#### **KNeighbors Classifier Model**"
      ]
    },
    {
      "cell_type": "code",
      "execution_count": null,
      "id": "baae97cc",
      "metadata": {
        "id": "baae97cc"
      },
      "outputs": [],
      "source": [
        "knn = KNeighborsClassifier(n_neighbors=9)\n",
        "knn.fit(X_train, y_train)\n",
        "knn_y_pred = knn.predict(X_test)"
      ]
    },
    {
      "cell_type": "code",
      "source": [
        "#checking for the test and train accuracies\n",
        "print(\"Train score:{:.2f}\".format(knn.score(X_train,y_train)))\n",
        "print(\"Test score:{:.2f}\\n\".format(knn.score(X_test,y_test)))\n",
        "\n",
        "# Obtain the results from the classification report and confusion matrix \n",
        "print('Classifcation report:\\n', classification_report(y_test, knn_y_pred))\n",
        "print(\"Confusion matrix:\\n\",confusion_matrix(y_true=y_test, y_pred=knn_y_pred))"
      ],
      "metadata": {
        "colab": {
          "base_uri": "https://localhost:8080/"
        },
        "id": "Lrszohly-Dpf",
        "outputId": "1af75c0c-c5be-4c16-fa00-ccc22329b54d"
      },
      "id": "Lrszohly-Dpf",
      "execution_count": null,
      "outputs": [
        {
          "output_type": "stream",
          "name": "stdout",
          "text": [
            "Train score:0.99\n",
            "Test score:0.99\n",
            "\n",
            "Classifcation report:\n",
            "               precision    recall  f1-score   support\n",
            "\n",
            "           0       1.00      0.98      0.99        60\n",
            "           1       0.94      1.00      0.97        16\n",
            "           2       0.97      1.00      0.98        28\n",
            "           3       1.00      0.96      0.98        24\n",
            "           4       1.00      1.00      1.00        33\n",
            "\n",
            "    accuracy                           0.99       161\n",
            "   macro avg       0.98      0.99      0.98       161\n",
            "weighted avg       0.99      0.99      0.99       161\n",
            "\n",
            "Confusion matrix:\n",
            " [[59  0  1  0  0]\n",
            " [ 0 16  0  0  0]\n",
            " [ 0  0 28  0  0]\n",
            " [ 0  1  0 23  0]\n",
            " [ 0  0  0  0 33]]\n"
          ]
        }
      ]
    },
    {
      "cell_type": "code",
      "execution_count": null,
      "id": "3b8cc358",
      "metadata": {
        "id": "3b8cc358"
      },
      "outputs": [],
      "source": []
    },
    {
      "cell_type": "code",
      "execution_count": null,
      "id": "c938d6d6",
      "metadata": {
        "id": "c938d6d6"
      },
      "outputs": [],
      "source": []
    },
    {
      "cell_type": "markdown",
      "id": "5153115e",
      "metadata": {
        "id": "5153115e"
      },
      "source": [
        "#### **Logistic Regression Model** "
      ]
    },
    {
      "cell_type": "code",
      "execution_count": null,
      "id": "ed429fc0",
      "metadata": {
        "colab": {
          "base_uri": "https://localhost:8080/"
        },
        "id": "ed429fc0",
        "outputId": "a6e9f448-7654-4149-e8e7-c2583bf391a9"
      },
      "outputs": [
        {
          "output_type": "stream",
          "name": "stdout",
          "text": [
            "Train score:1.00\n",
            "Test score:0.98\n",
            "\n",
            "Classifcation report:\n",
            "               precision    recall  f1-score   support\n",
            "\n",
            "           0       1.00      0.98      0.99        60\n",
            "           1       0.94      1.00      0.97        16\n",
            "           2       0.96      0.96      0.96        28\n",
            "           3       0.96      0.96      0.96        24\n",
            "           4       1.00      1.00      1.00        33\n",
            "\n",
            "    accuracy                           0.98       161\n",
            "   macro avg       0.97      0.98      0.98       161\n",
            "weighted avg       0.98      0.98      0.98       161\n",
            "\n",
            "Confusion matrix:\n",
            " [[59  0  1  0  0]\n",
            " [ 0 16  0  0  0]\n",
            " [ 0  0 27  1  0]\n",
            " [ 0  1  0 23  0]\n",
            " [ 0  0  0  0 33]]\n"
          ]
        }
      ],
      "source": [
        "#Instantiating and fitting the model\n",
        "logit = LogisticRegression()\n",
        "logit.fit(X_train,y_train)\n",
        "logit_y_pred = logit.predict(X_test)\n",
        "\n",
        "#checking for the test and train accuracies\n",
        "print(\"Train score:{:.2f}\".format(logit.score(X_train,y_train)))\n",
        "print(\"Test score:{:.2f}\\n\".format(logit.score(X_test,y_test)))\n",
        "\n",
        "# Obtain the results from the classification report and confusion matrix \n",
        "print('Classifcation report:\\n', classification_report(y_test, logit_y_pred))\n",
        "print(\"Confusion matrix:\\n\",confusion_matrix(y_true=y_test, y_pred=logit_y_pred))"
      ]
    },
    {
      "cell_type": "code",
      "execution_count": null,
      "id": "95f80737",
      "metadata": {
        "id": "95f80737"
      },
      "outputs": [],
      "source": []
    },
    {
      "cell_type": "markdown",
      "id": "58c6d53d",
      "metadata": {
        "id": "58c6d53d"
      },
      "source": [
        "#### **SVC Classifier Model**"
      ]
    },
    {
      "cell_type": "code",
      "execution_count": null,
      "id": "885b7be1",
      "metadata": {
        "colab": {
          "base_uri": "https://localhost:8080/"
        },
        "id": "885b7be1",
        "outputId": "7ece5f5d-2828-44ef-cee3-3c4c904383b6"
      },
      "outputs": [
        {
          "output_type": "stream",
          "name": "stdout",
          "text": [
            "Test score:0.97\n",
            "Train score:0.98\n",
            "\n",
            "Classifcation report:\n",
            "               precision    recall  f1-score   support\n",
            "\n",
            "           0       0.94      1.00      0.97        60\n",
            "           1       0.94      0.94      0.94        16\n",
            "           2       1.00      0.96      0.98        28\n",
            "           3       1.00      0.92      0.96        24\n",
            "           4       1.00      0.97      0.98        33\n",
            "\n",
            "    accuracy                           0.97       161\n",
            "   macro avg       0.97      0.96      0.97       161\n",
            "weighted avg       0.97      0.97      0.97       161\n",
            "\n",
            "Confusion matrix:\n",
            " [[60  0  0  0  0]\n",
            " [ 1 15  0  0  0]\n",
            " [ 1  0 27  0  0]\n",
            " [ 1  1  0 22  0]\n",
            " [ 1  0  0  0 32]]\n"
          ]
        }
      ],
      "source": [
        "#Instantiating and fitting the model\n",
        "svc = SVC(kernel = 'poly',C = 1,degree = 2)\n",
        "svc.fit(X_train,y_train)\n",
        "svc_y_pred = svc.predict(X_test)\n",
        "\n",
        "#checking for the test and train accuracies\n",
        "print(\"Test score:{:.2f}\".format(svc.score(X_test,y_test)))\n",
        "print(\"Train score:{:.2f}\\n\".format(svc.score(X_train,y_train)))\n",
        "\n",
        "# Obtain the results from the classification report and confusion matrix \n",
        "print('Classifcation report:\\n', classification_report(y_test, svc_y_pred))\n",
        "print(\"Confusion matrix:\\n\",confusion_matrix(y_true=y_test, y_pred=svc_y_pred))"
      ]
    },
    {
      "cell_type": "code",
      "execution_count": null,
      "id": "61bd6c39",
      "metadata": {
        "id": "61bd6c39"
      },
      "outputs": [],
      "source": []
    },
    {
      "cell_type": "markdown",
      "id": "2811365c",
      "metadata": {
        "id": "2811365c"
      },
      "source": [
        "#### **RandomForest Classifier Model**"
      ]
    },
    {
      "cell_type": "code",
      "source": [
        "RF=OneVsRestClassifier(RandomForestClassifier(max_features=0.4,random_state=20,n_jobs=-1,criterion='gini',max_depth=6))\n",
        "RF.fit(X_train,y_train)\n",
        "RF_y_pred =RF.predict(X_test)\n",
        "pred_prob = RF.predict_proba(X_test)\n",
        "\n",
        "#checking for the test and train accuracies\n",
        "print(\"Train score:{:.2f}\".format(RF.score(X_train,y_train)))\n",
        "print(\"Test score:{:.2f}\\n\".format(RF.score(X_test,y_test)))\n",
        "\n",
        "\n",
        "# Obtain the results from the classification report and confusion matrix \n",
        "print('Classifcation report:\\n', classification_report(y_test, RF_y_pred))\n",
        "print(\"Confusion matrix:\\n\",confusion_matrix(y_true=y_test, y_pred= RF_y_pred))"
      ],
      "metadata": {
        "colab": {
          "base_uri": "https://localhost:8080/"
        },
        "id": "YeQFGtQLBvyS",
        "outputId": "37dbda1b-21ae-4638-909e-78192d23d7cc"
      },
      "id": "YeQFGtQLBvyS",
      "execution_count": null,
      "outputs": [
        {
          "output_type": "stream",
          "name": "stdout",
          "text": [
            "Train score:1.00\n",
            "Test score:0.98\n",
            "\n",
            "Classifcation report:\n",
            "               precision    recall  f1-score   support\n",
            "\n",
            "           0       1.00      0.97      0.98        60\n",
            "           1       0.94      0.94      0.94        16\n",
            "           2       0.97      1.00      0.98        28\n",
            "           3       0.92      0.96      0.94        24\n",
            "           4       1.00      1.00      1.00        33\n",
            "\n",
            "    accuracy                           0.98       161\n",
            "   macro avg       0.96      0.97      0.97       161\n",
            "weighted avg       0.98      0.98      0.98       161\n",
            "\n",
            "Confusion matrix:\n",
            " [[58  0  1  1  0]\n",
            " [ 0 15  0  1  0]\n",
            " [ 0  0 28  0  0]\n",
            " [ 0  1  0 23  0]\n",
            " [ 0  0  0  0 33]]\n"
          ]
        }
      ]
    },
    {
      "cell_type": "markdown",
      "id": "3dccc82d",
      "metadata": {
        "id": "3dccc82d"
      },
      "source": [
        "#### **Decision Tree Classifier Model**"
      ]
    },
    {
      "cell_type": "code",
      "source": [
        "#Instantiating and fitting the model\n",
        "dtr= DecisionTreeClassifier(criterion = 'gini',max_depth = 6, random_state = 100)\n",
        "dtr.fit(X_train,y_train)\n",
        "tree_y_pred = dtr.predict(X_test)\n",
        "\n",
        "#checking for the test and train accuracies\n",
        "print(\"Train score:{:.2f}\".format(dtr.score(X_train,y_train)))\n",
        "print(\"Test score:{:.2f}\\n\".format(dtr.score(X_test,y_test)))\n",
        "\n",
        "\n",
        "# Obtain the results from the classification report and confusion matrix \n",
        "print('Classifcation report:\\n', classification_report(y_test, tree_y_pred))\n",
        "print(\"Confusion matrix:\\n\",confusion_matrix(y_true=y_test, y_pred= tree_y_pred))"
      ],
      "metadata": {
        "colab": {
          "base_uri": "https://localhost:8080/"
        },
        "id": "GFcEgNl9CmMg",
        "outputId": "544381c9-70df-47c7-a1e0-09e0e1602158"
      },
      "id": "GFcEgNl9CmMg",
      "execution_count": null,
      "outputs": [
        {
          "output_type": "stream",
          "name": "stdout",
          "text": [
            "Train score:1.00\n",
            "Test score:0.97\n",
            "\n",
            "Classifcation report:\n",
            "               precision    recall  f1-score   support\n",
            "\n",
            "           0       0.98      0.97      0.97        60\n",
            "           1       0.94      1.00      0.97        16\n",
            "           2       0.96      0.96      0.96        28\n",
            "           3       0.92      0.96      0.94        24\n",
            "           4       1.00      0.97      0.98        33\n",
            "\n",
            "    accuracy                           0.97       161\n",
            "   macro avg       0.96      0.97      0.97       161\n",
            "weighted avg       0.97      0.97      0.97       161\n",
            "\n",
            "Confusion matrix:\n",
            " [[58  0  1  1  0]\n",
            " [ 0 16  0  0  0]\n",
            " [ 1  0 27  0  0]\n",
            " [ 0  1  0 23  0]\n",
            " [ 0  0  0  1 32]]\n"
          ]
        }
      ]
    },
    {
      "cell_type": "markdown",
      "id": "08fbc80a",
      "metadata": {
        "id": "08fbc80a"
      },
      "source": [
        "#### **Voting Classifier Model**"
      ]
    },
    {
      "cell_type": "code",
      "execution_count": null,
      "id": "505c1af1",
      "metadata": {
        "id": "505c1af1"
      },
      "outputs": [],
      "source": [
        "# Instantiate individual classifiers\n",
        "lr = LogisticRegression(C=0.1, class_weight=None, random_state=42)\n",
        "knn = KNeighborsClassifier()\n",
        "rfc = RandomForestClassifier()\n",
        "dtr = DecisionTreeClassifier()\n",
        "svc = SVC(kernel= 'poly', C= 1,degree = 2)\n",
        "# Define a list called classifier that contains the tuples (classifier_name, classifier)\n",
        "classifiers = [('Logistic Regression', lr),\n",
        "('K Nearest Neighbors', knn),\n",
        "('Random Forest', rfc),\n",
        "('Decision Tree', dtr), ('SVC', svc)]"
      ]
    },
    {
      "cell_type": "code",
      "source": [
        "# Iterate over the defined list of tuples containing the classifiers\n",
        "for model_name, model in classifiers:\n",
        "        #fit model to the training set (ROS)\n",
        "        model.fit(X_train,y_train)\n",
        "        # Predict the labels of the test set\n",
        "        model_y_pred = model.predict(X_test)\n",
        "        # Evaluate the accuracy of model on the test set\n",
        "        print('{:s} : {:.2f}'.format(model_name, balanced_accuracy_score(y_test, model_y_pred)))"
      ],
      "metadata": {
        "colab": {
          "base_uri": "https://localhost:8080/"
        },
        "id": "ClaS8FBuEClo",
        "outputId": "a68a0d79-6bcc-4c8f-f377-9ec6fe94d30b"
      },
      "id": "ClaS8FBuEClo",
      "execution_count": null,
      "outputs": [
        {
          "output_type": "stream",
          "name": "stdout",
          "text": [
            "Logistic Regression : 0.99\n",
            "K Nearest Neighbors : 0.98\n",
            "Random Forest : 0.99\n",
            "Decision Tree : 0.97\n",
            "SVC : 0.96\n"
          ]
        }
      ]
    },
    {
      "cell_type": "code",
      "source": [
        "#Instantiating  votting classifier model \n",
        "vc = VotingClassifier(estimators=classifiers,voting = 'hard')\n",
        "\n",
        "# Fit 'vc' to the traing set and predict test set labels (ROS)\n",
        "vc.fit(X_train, y_train)\n",
        "vc_y_pred = vc.predict(X_test)\n",
        "\n",
        "#checking for the test and train accuracies\n",
        "print(\"Test score:{:.2f}\".format(vc.score(X_test,y_test)))\n",
        "print(\"Train score:{:.2f}\\n\".format(vc.score(X_train,y_train)))\n",
        "\n",
        "# Obtain the results from the classification report and confusion matrix \n",
        "print('Classifcation report:\\n', classification_report(y_test, vc_y_pred))\n",
        "print(\"Confusion matrix:\\n\",confusion_matrix(y_true=y_test, y_pred=vc_y_pred))\n",
        "\n",
        "# print(\"\\n\")\n",
        "# # Obtain metrics\n",
        "# print('Accuracy :{0:0.2f}'.format(accuracy_score(vc_y_pred , y_test))) \n",
        "# print('AUC : {0:0.2f}'.format(roc_auc_score(y_test , vc_y_pred)))\n",
        "# print('Precision : {0:0.2f}'.format(precision_score(y_test , vc_y_pred)))\n",
        "# print('Recall : {0:0.2f}'.format(recall_score(y_test , vc_y_pred)))\n",
        "# print('F1 : {0:0.2f}'.format(f1_score(y_test , vc_y_pred)))\n",
        "# print(\"\\n\")"
      ],
      "metadata": {
        "colab": {
          "base_uri": "https://localhost:8080/"
        },
        "id": "GWxXiqo-Fvul",
        "outputId": "a78b3ad6-6a91-4548-a843-21e53aa6b9cf"
      },
      "id": "GWxXiqo-Fvul",
      "execution_count": null,
      "outputs": [
        {
          "output_type": "stream",
          "name": "stdout",
          "text": [
            "Test score:0.99\n",
            "Train score:1.00\n",
            "\n",
            "Classifcation report:\n",
            "               precision    recall  f1-score   support\n",
            "\n",
            "           0       1.00      0.98      0.99        60\n",
            "           1       0.94      1.00      0.97        16\n",
            "           2       0.97      1.00      0.98        28\n",
            "           3       1.00      0.96      0.98        24\n",
            "           4       1.00      1.00      1.00        33\n",
            "\n",
            "    accuracy                           0.99       161\n",
            "   macro avg       0.98      0.99      0.98       161\n",
            "weighted avg       0.99      0.99      0.99       161\n",
            "\n",
            "Confusion matrix:\n",
            " [[59  0  1  0  0]\n",
            " [ 0 16  0  0  0]\n",
            " [ 0  0 28  0  0]\n",
            " [ 0  1  0 23  0]\n",
            " [ 0  0  0  0 33]]\n"
          ]
        }
      ]
    },
    {
      "cell_type": "code",
      "source": [],
      "metadata": {
        "id": "apPgprmrGKDD"
      },
      "id": "apPgprmrGKDD",
      "execution_count": null,
      "outputs": []
    },
    {
      "cell_type": "markdown",
      "source": [
        "#### **Gradient Boost Model**"
      ],
      "metadata": {
        "id": "4nJKHVtWGZhv"
      },
      "id": "4nJKHVtWGZhv"
    },
    {
      "cell_type": "code",
      "source": [
        "#Instantiating the model with best parameters\n",
        "gbc = GradientBoostingClassifier()\n",
        "\n",
        "#Fitting the model with X_train_ros, y_train_ros\n",
        "gbc.fit(X_train, y_train)\n",
        "gbc_y_pred = gbc.predict(X_test)\n",
        "\n",
        "#checking for the test and train accuracies\n",
        "print(\"Test score:{:.2f}\".format(gbc.score(X_test,y_test)))\n",
        "print(\"Train score:{:.2f}\\n\".format(gbc.score(X_train,y_train)))\n",
        "\n",
        "# Obtain the results from the classification report and confusion matrix \n",
        "print('Classifcation report:\\n', classification_report(y_test, gbc_y_pred))\n",
        "print(\"Confusion matrix:\\n\",confusion_matrix(y_true=y_test, y_pred=gbc_y_pred))"
      ],
      "metadata": {
        "colab": {
          "base_uri": "https://localhost:8080/"
        },
        "id": "R0GIGM8uGf75",
        "outputId": "5e92ea25-91e0-4e3b-d47b-2b6e45ecd58e"
      },
      "id": "R0GIGM8uGf75",
      "execution_count": null,
      "outputs": [
        {
          "output_type": "stream",
          "name": "stdout",
          "text": [
            "Test score:0.98\n",
            "Train score:1.00\n",
            "\n",
            "Classifcation report:\n",
            "               precision    recall  f1-score   support\n",
            "\n",
            "           0       0.98      0.98      0.98        60\n",
            "           1       0.94      1.00      0.97        16\n",
            "           2       0.97      1.00      0.98        28\n",
            "           3       1.00      0.92      0.96        24\n",
            "           4       1.00      1.00      1.00        33\n",
            "\n",
            "    accuracy                           0.98       161\n",
            "   macro avg       0.98      0.98      0.98       161\n",
            "weighted avg       0.98      0.98      0.98       161\n",
            "\n",
            "Confusion matrix:\n",
            " [[59  0  1  0  0]\n",
            " [ 0 16  0  0  0]\n",
            " [ 0  0 28  0  0]\n",
            " [ 1  1  0 22  0]\n",
            " [ 0  0  0  0 33]]\n"
          ]
        }
      ]
    },
    {
      "cell_type": "markdown",
      "source": [
        "#### **Bagging Model**"
      ],
      "metadata": {
        "id": "zsEIybDJHGj2"
      },
      "id": "zsEIybDJHGj2"
    },
    {
      "cell_type": "code",
      "source": [
        "# instantiate a base model as DecisionTreeClassifier and Bagging classifier\n",
        "dt = DecisionTreeClassifier()\n",
        "bc = BaggingClassifier(base_estimator=dt)\n",
        "# fit model on training data\n",
        "bc.fit(X_train,y_train)\n",
        "\n",
        "# predict model and calculate accuracy\n",
        "bc_y_pred = bc.predict(X_test)\n",
        "\n",
        "\n",
        "#checking for the test and train accuracies\n",
        "print(\"Test score:{:.2f}\".format(bc.score(X_test,y_test)))\n",
        "print(\"Train score:{:.2f}\\n\".format(bc.score(X_train,y_train)))\n",
        "\n",
        "# Obtain the results from the classification report and confusion matrix \n",
        "print('Classifcation report:\\n', classification_report(y_test, bc_y_pred))\n",
        "print(\"Confusion matrix:\\n\",confusion_matrix(y_true=y_test, y_pred=bc_y_pred))\n"
      ],
      "metadata": {
        "colab": {
          "base_uri": "https://localhost:8080/"
        },
        "id": "0vxnZwI6HLTn",
        "outputId": "dd13b052-2ffa-443f-d003-30522f2fa7ab"
      },
      "id": "0vxnZwI6HLTn",
      "execution_count": null,
      "outputs": [
        {
          "output_type": "stream",
          "name": "stdout",
          "text": [
            "Test score:0.98\n",
            "Train score:1.00\n",
            "\n",
            "Classifcation report:\n",
            "               precision    recall  f1-score   support\n",
            "\n",
            "           0       1.00      0.98      0.99        60\n",
            "           1       0.94      1.00      0.97        16\n",
            "           2       0.97      1.00      0.98        28\n",
            "           3       0.96      0.96      0.96        24\n",
            "           4       1.00      0.97      0.98        33\n",
            "\n",
            "    accuracy                           0.98       161\n",
            "   macro avg       0.97      0.98      0.98       161\n",
            "weighted avg       0.98      0.98      0.98       161\n",
            "\n",
            "Confusion matrix:\n",
            " [[59  0  1  0  0]\n",
            " [ 0 16  0  0  0]\n",
            " [ 0  0 28  0  0]\n",
            " [ 0  1  0 23  0]\n",
            " [ 0  0  0  1 32]]\n"
          ]
        }
      ]
    },
    {
      "cell_type": "markdown",
      "source": [
        "#### **AdaBoost Model**"
      ],
      "metadata": {
        "id": "gaWWiVzKGJrV"
      },
      "id": "gaWWiVzKGJrV"
    },
    {
      "cell_type": "code",
      "source": [
        "# Instantiate a decition tree classifier as the weaker model\n",
        "dtc= DecisionTreeClassifier()\n",
        "\n",
        "#Instantiating and fitting the model\n",
        "adb = AdaBoostClassifier(base_estimator = dtc)\n",
        "adb.fit(X_train,y_train)\n",
        "adb_y_pred = adb.predict(X_test)\n",
        "\n",
        "#checking for the test and train accuracies\n",
        "print(\"Test score:{:.2f}\".format(adb.score(X_test,y_test)))\n",
        "print(\"Train score:{:.2f}\\n\".format(adb.score(X_train,y_train)))\n",
        "\n",
        "# Obtain the results from the classification report and confusion matrix \n",
        "print('Classifcation report:\\n', classification_report(y_test, adb_y_pred))\n",
        "print(\"Confusion matrix:\\n\",confusion_matrix(y_true=y_test, y_pred=adb_y_pred))\n"
      ],
      "metadata": {
        "colab": {
          "base_uri": "https://localhost:8080/"
        },
        "id": "WO7qfDKuIMG5",
        "outputId": "56db5e22-66a7-42e0-c18c-b8da6ee8c964"
      },
      "id": "WO7qfDKuIMG5",
      "execution_count": null,
      "outputs": [
        {
          "output_type": "stream",
          "name": "stdout",
          "text": [
            "Test score:0.96\n",
            "Train score:1.00\n",
            "\n",
            "Classifcation report:\n",
            "               precision    recall  f1-score   support\n",
            "\n",
            "           0       1.00      0.97      0.98        60\n",
            "           1       0.94      1.00      0.97        16\n",
            "           2       0.90      0.96      0.93        28\n",
            "           3       0.92      0.96      0.94        24\n",
            "           4       0.97      0.91      0.94        33\n",
            "\n",
            "    accuracy                           0.96       161\n",
            "   macro avg       0.95      0.96      0.95       161\n",
            "weighted avg       0.96      0.96      0.96       161\n",
            "\n",
            "Confusion matrix:\n",
            " [[58  0  1  0  1]\n",
            " [ 0 16  0  0  0]\n",
            " [ 0  0 27  1  0]\n",
            " [ 0  1  0 23  0]\n",
            " [ 0  0  2  1 30]]\n"
          ]
        }
      ]
    },
    {
      "cell_type": "markdown",
      "id": "a3fa010b",
      "metadata": {
        "id": "a3fa010b"
      },
      "source": [
        "#### **XGBoost Model**"
      ]
    },
    {
      "cell_type": "code",
      "execution_count": null,
      "id": "cf3b1560",
      "metadata": {
        "colab": {
          "base_uri": "https://localhost:8080/"
        },
        "id": "cf3b1560",
        "outputId": "1f687b5f-de51-430b-fd3a-9b03d3ae1850"
      },
      "outputs": [
        {
          "output_type": "stream",
          "name": "stdout",
          "text": [
            "Test score:0.99\n",
            "Train score:1.00\n",
            "\n",
            "Classifcation report:\n",
            "               precision    recall  f1-score   support\n",
            "\n",
            "           0       1.00      0.98      0.99        60\n",
            "           1       0.94      1.00      0.97        16\n",
            "           2       0.97      1.00      0.98        28\n",
            "           3       1.00      0.96      0.98        24\n",
            "           4       1.00      1.00      1.00        33\n",
            "\n",
            "    accuracy                           0.99       161\n",
            "   macro avg       0.98      0.99      0.98       161\n",
            "weighted avg       0.99      0.99      0.99       161\n",
            "\n",
            "Confusion matrix:\n",
            " [[59  0  1  0  0]\n",
            " [ 0 16  0  0  0]\n",
            " [ 0  0 28  0  0]\n",
            " [ 0  1  0 23  0]\n",
            " [ 0  0  0  0 33]]\n"
          ]
        }
      ],
      "source": [
        "#instantiating and fitting the model\n",
        "xgboost = XGBClassifier()\n",
        "xgboost.fit(X_train, y_train)\n",
        "xgb_pred = xgboost.predict(X_test)\n",
        "\n",
        "#checking for the test and train accuracies\n",
        "print(\"Test score:{:.2f}\".format(xgboost.score(X_test,y_test)))\n",
        "print(\"Train score:{:.2f}\\n\".format(xgboost.score(X_train,y_train)))\n",
        "\n",
        "# Obtain the results from the classification report and confusion matrix \n",
        "print('Classifcation report:\\n', classification_report(y_test, xgb_pred))\n",
        "print(\"Confusion matrix:\\n\",confusion_matrix(y_true=y_test, y_pred=xgb_pred))"
      ]
    },
    {
      "cell_type": "markdown",
      "id": "f1dc4a1a",
      "metadata": {
        "id": "f1dc4a1a"
      },
      "source": [
        "### **Selection of Best Model**\n",
        "Average F1 score will be used to select our model. Because F1 Score is the weighted average of Precision and Recall. Therefore, it score takes both false positives and false negatives into account. Intuitively it is not as easy to understand as accuracy, but F1 is usually more useful than accuracy, especially if you have an uneven class distribution."
      ]
    },
    {
      "cell_type": "code",
      "source": [
        "knn_f1 = f1_score(y_test, knn_y_pred, average = 'weighted')\n",
        "logit_f1 = f1_score(y_test, logit_y_pred, average = 'weighted')\n",
        "svc_f1 = f1_score(y_test, svc_y_pred, average = 'weighted')\n",
        "tree_f1 = f1_score(y_test, tree_y_pred, average = 'weighted')\n",
        "rfc_f1 = f1_score(y_test, RF_y_pred, average = 'weighted')\n",
        "bc_f1 = f1_score(y_test, bc_y_pred, average = 'weighted')\n",
        "adb_f1 = f1_score(y_test, adb_y_pred, average = 'weighted')\n",
        "gbc_f1 = f1_score(y_test, gbc_y_pred, average = 'weighted')\n",
        "vc_f1 = f1_score(y_test, vc_y_pred, average = 'weighted')\n",
        "xgb_f1 = f1_score(y_test, xgb_pred, average = 'weighted')\n"
      ],
      "metadata": {
        "id": "QAAHiTVfM1PD"
      },
      "id": "QAAHiTVfM1PD",
      "execution_count": null,
      "outputs": []
    },
    {
      "cell_type": "code",
      "source": [
        "#creating the list for models\n",
        "Model = ['KNN', 'Logit', 'SVC', 'Decision Tree','Random Forest', 'Bagging', \n",
        "         'AdaBoost','Gradient Boost','Voting', 'XGBOOST']\n",
        "\n",
        "F1_Score = [knn_f1, logit_f1, svc_f1, tree_f1, rfc_f1, bc_f1, adb_f1, gbc_f1,vc_f1, xgb_f1] "
      ],
      "metadata": {
        "id": "OW0XYRyyM1aF"
      },
      "id": "OW0XYRyyM1aF",
      "execution_count": null,
      "outputs": []
    },
    {
      "cell_type": "code",
      "source": [
        "#Creating the DataFrame\n",
        "\n",
        "performance = pd.DataFrame({'Model':Model, 'F1_Score':F1_Score})\n",
        "performance.set_index('Model')"
      ],
      "metadata": {
        "colab": {
          "base_uri": "https://localhost:8080/",
          "height": 394
        },
        "id": "oYlrU1RuM1fR",
        "outputId": "64129884-dab3-4020-b17b-b1e4b03bddd0"
      },
      "id": "oYlrU1RuM1fR",
      "execution_count": null,
      "outputs": [
        {
          "output_type": "execute_result",
          "data": {
            "text/plain": [
              "                F1_Score\n",
              "Model                   \n",
              "KNN             0.987634\n",
              "Logit           0.981434\n",
              "SVC             0.968971\n",
              "Decision Tree   0.969102\n",
              "Random Forest   0.975295\n",
              "Bagging         0.981441\n",
              "AdaBoost        0.956741\n",
              "Gradient Boost  0.981245\n",
              "Voting          0.987634\n",
              "XGBOOST         0.987634"
            ],
            "text/html": [
              "\n",
              "  <div id=\"df-93360b9e-77e2-4585-a9b0-2623a144cf3e\">\n",
              "    <div class=\"colab-df-container\">\n",
              "      <div>\n",
              "<style scoped>\n",
              "    .dataframe tbody tr th:only-of-type {\n",
              "        vertical-align: middle;\n",
              "    }\n",
              "\n",
              "    .dataframe tbody tr th {\n",
              "        vertical-align: top;\n",
              "    }\n",
              "\n",
              "    .dataframe thead th {\n",
              "        text-align: right;\n",
              "    }\n",
              "</style>\n",
              "<table border=\"1\" class=\"dataframe\">\n",
              "  <thead>\n",
              "    <tr style=\"text-align: right;\">\n",
              "      <th></th>\n",
              "      <th>F1_Score</th>\n",
              "    </tr>\n",
              "    <tr>\n",
              "      <th>Model</th>\n",
              "      <th></th>\n",
              "    </tr>\n",
              "  </thead>\n",
              "  <tbody>\n",
              "    <tr>\n",
              "      <th>KNN</th>\n",
              "      <td>0.987634</td>\n",
              "    </tr>\n",
              "    <tr>\n",
              "      <th>Logit</th>\n",
              "      <td>0.981434</td>\n",
              "    </tr>\n",
              "    <tr>\n",
              "      <th>SVC</th>\n",
              "      <td>0.968971</td>\n",
              "    </tr>\n",
              "    <tr>\n",
              "      <th>Decision Tree</th>\n",
              "      <td>0.969102</td>\n",
              "    </tr>\n",
              "    <tr>\n",
              "      <th>Random Forest</th>\n",
              "      <td>0.975295</td>\n",
              "    </tr>\n",
              "    <tr>\n",
              "      <th>Bagging</th>\n",
              "      <td>0.981441</td>\n",
              "    </tr>\n",
              "    <tr>\n",
              "      <th>AdaBoost</th>\n",
              "      <td>0.956741</td>\n",
              "    </tr>\n",
              "    <tr>\n",
              "      <th>Gradient Boost</th>\n",
              "      <td>0.981245</td>\n",
              "    </tr>\n",
              "    <tr>\n",
              "      <th>Voting</th>\n",
              "      <td>0.987634</td>\n",
              "    </tr>\n",
              "    <tr>\n",
              "      <th>XGBOOST</th>\n",
              "      <td>0.987634</td>\n",
              "    </tr>\n",
              "  </tbody>\n",
              "</table>\n",
              "</div>\n",
              "      <button class=\"colab-df-convert\" onclick=\"convertToInteractive('df-93360b9e-77e2-4585-a9b0-2623a144cf3e')\"\n",
              "              title=\"Convert this dataframe to an interactive table.\"\n",
              "              style=\"display:none;\">\n",
              "        \n",
              "  <svg xmlns=\"http://www.w3.org/2000/svg\" height=\"24px\"viewBox=\"0 0 24 24\"\n",
              "       width=\"24px\">\n",
              "    <path d=\"M0 0h24v24H0V0z\" fill=\"none\"/>\n",
              "    <path d=\"M18.56 5.44l.94 2.06.94-2.06 2.06-.94-2.06-.94-.94-2.06-.94 2.06-2.06.94zm-11 1L8.5 8.5l.94-2.06 2.06-.94-2.06-.94L8.5 2.5l-.94 2.06-2.06.94zm10 10l.94 2.06.94-2.06 2.06-.94-2.06-.94-.94-2.06-.94 2.06-2.06.94z\"/><path d=\"M17.41 7.96l-1.37-1.37c-.4-.4-.92-.59-1.43-.59-.52 0-1.04.2-1.43.59L10.3 9.45l-7.72 7.72c-.78.78-.78 2.05 0 2.83L4 21.41c.39.39.9.59 1.41.59.51 0 1.02-.2 1.41-.59l7.78-7.78 2.81-2.81c.8-.78.8-2.07 0-2.86zM5.41 20L4 18.59l7.72-7.72 1.47 1.35L5.41 20z\"/>\n",
              "  </svg>\n",
              "      </button>\n",
              "      \n",
              "  <style>\n",
              "    .colab-df-container {\n",
              "      display:flex;\n",
              "      flex-wrap:wrap;\n",
              "      gap: 12px;\n",
              "    }\n",
              "\n",
              "    .colab-df-convert {\n",
              "      background-color: #E8F0FE;\n",
              "      border: none;\n",
              "      border-radius: 50%;\n",
              "      cursor: pointer;\n",
              "      display: none;\n",
              "      fill: #1967D2;\n",
              "      height: 32px;\n",
              "      padding: 0 0 0 0;\n",
              "      width: 32px;\n",
              "    }\n",
              "\n",
              "    .colab-df-convert:hover {\n",
              "      background-color: #E2EBFA;\n",
              "      box-shadow: 0px 1px 2px rgba(60, 64, 67, 0.3), 0px 1px 3px 1px rgba(60, 64, 67, 0.15);\n",
              "      fill: #174EA6;\n",
              "    }\n",
              "\n",
              "    [theme=dark] .colab-df-convert {\n",
              "      background-color: #3B4455;\n",
              "      fill: #D2E3FC;\n",
              "    }\n",
              "\n",
              "    [theme=dark] .colab-df-convert:hover {\n",
              "      background-color: #434B5C;\n",
              "      box-shadow: 0px 1px 3px 1px rgba(0, 0, 0, 0.15);\n",
              "      filter: drop-shadow(0px 1px 2px rgba(0, 0, 0, 0.3));\n",
              "      fill: #FFFFFF;\n",
              "    }\n",
              "  </style>\n",
              "\n",
              "      <script>\n",
              "        const buttonEl =\n",
              "          document.querySelector('#df-93360b9e-77e2-4585-a9b0-2623a144cf3e button.colab-df-convert');\n",
              "        buttonEl.style.display =\n",
              "          google.colab.kernel.accessAllowed ? 'block' : 'none';\n",
              "\n",
              "        async function convertToInteractive(key) {\n",
              "          const element = document.querySelector('#df-93360b9e-77e2-4585-a9b0-2623a144cf3e');\n",
              "          const dataTable =\n",
              "            await google.colab.kernel.invokeFunction('convertToInteractive',\n",
              "                                                     [key], {});\n",
              "          if (!dataTable) return;\n",
              "\n",
              "          const docLinkHtml = 'Like what you see? Visit the ' +\n",
              "            '<a target=\"_blank\" href=https://colab.research.google.com/notebooks/data_table.ipynb>data table notebook</a>'\n",
              "            + ' to learn more about interactive tables.';\n",
              "          element.innerHTML = '';\n",
              "          dataTable['output_type'] = 'display_data';\n",
              "          await google.colab.output.renderOutput(dataTable, element);\n",
              "          const docLink = document.createElement('div');\n",
              "          docLink.innerHTML = docLinkHtml;\n",
              "          element.appendChild(docLink);\n",
              "        }\n",
              "      </script>\n",
              "    </div>\n",
              "  </div>\n",
              "  "
            ]
          },
          "metadata": {},
          "execution_count": 61
        }
      ]
    },
    {
      "cell_type": "code",
      "source": [
        "performance = performance.sort_values(['F1_Score'],ascending=False)\n",
        "performance = performance.reset_index(drop=True)\n",
        "performance"
      ],
      "metadata": {
        "colab": {
          "base_uri": "https://localhost:8080/",
          "height": 363
        },
        "id": "fQzGofo3SLQQ",
        "outputId": "c5a9f9d9-f590-47bf-f581-462a2fd19301"
      },
      "id": "fQzGofo3SLQQ",
      "execution_count": null,
      "outputs": [
        {
          "output_type": "execute_result",
          "data": {
            "text/plain": [
              "            Model  F1_Score\n",
              "0             KNN  0.987634\n",
              "1          Voting  0.987634\n",
              "2         XGBOOST  0.987634\n",
              "3         Bagging  0.981441\n",
              "4           Logit  0.981434\n",
              "5  Gradient Boost  0.981245\n",
              "6   Random Forest  0.975295\n",
              "7   Decision Tree  0.969102\n",
              "8             SVC  0.968971\n",
              "9        AdaBoost  0.956741"
            ],
            "text/html": [
              "\n",
              "  <div id=\"df-4f6dac30-d9d4-40eb-9da1-e58d88e88476\">\n",
              "    <div class=\"colab-df-container\">\n",
              "      <div>\n",
              "<style scoped>\n",
              "    .dataframe tbody tr th:only-of-type {\n",
              "        vertical-align: middle;\n",
              "    }\n",
              "\n",
              "    .dataframe tbody tr th {\n",
              "        vertical-align: top;\n",
              "    }\n",
              "\n",
              "    .dataframe thead th {\n",
              "        text-align: right;\n",
              "    }\n",
              "</style>\n",
              "<table border=\"1\" class=\"dataframe\">\n",
              "  <thead>\n",
              "    <tr style=\"text-align: right;\">\n",
              "      <th></th>\n",
              "      <th>Model</th>\n",
              "      <th>F1_Score</th>\n",
              "    </tr>\n",
              "  </thead>\n",
              "  <tbody>\n",
              "    <tr>\n",
              "      <th>0</th>\n",
              "      <td>KNN</td>\n",
              "      <td>0.987634</td>\n",
              "    </tr>\n",
              "    <tr>\n",
              "      <th>1</th>\n",
              "      <td>Voting</td>\n",
              "      <td>0.987634</td>\n",
              "    </tr>\n",
              "    <tr>\n",
              "      <th>2</th>\n",
              "      <td>XGBOOST</td>\n",
              "      <td>0.987634</td>\n",
              "    </tr>\n",
              "    <tr>\n",
              "      <th>3</th>\n",
              "      <td>Bagging</td>\n",
              "      <td>0.981441</td>\n",
              "    </tr>\n",
              "    <tr>\n",
              "      <th>4</th>\n",
              "      <td>Logit</td>\n",
              "      <td>0.981434</td>\n",
              "    </tr>\n",
              "    <tr>\n",
              "      <th>5</th>\n",
              "      <td>Gradient Boost</td>\n",
              "      <td>0.981245</td>\n",
              "    </tr>\n",
              "    <tr>\n",
              "      <th>6</th>\n",
              "      <td>Random Forest</td>\n",
              "      <td>0.975295</td>\n",
              "    </tr>\n",
              "    <tr>\n",
              "      <th>7</th>\n",
              "      <td>Decision Tree</td>\n",
              "      <td>0.969102</td>\n",
              "    </tr>\n",
              "    <tr>\n",
              "      <th>8</th>\n",
              "      <td>SVC</td>\n",
              "      <td>0.968971</td>\n",
              "    </tr>\n",
              "    <tr>\n",
              "      <th>9</th>\n",
              "      <td>AdaBoost</td>\n",
              "      <td>0.956741</td>\n",
              "    </tr>\n",
              "  </tbody>\n",
              "</table>\n",
              "</div>\n",
              "      <button class=\"colab-df-convert\" onclick=\"convertToInteractive('df-4f6dac30-d9d4-40eb-9da1-e58d88e88476')\"\n",
              "              title=\"Convert this dataframe to an interactive table.\"\n",
              "              style=\"display:none;\">\n",
              "        \n",
              "  <svg xmlns=\"http://www.w3.org/2000/svg\" height=\"24px\"viewBox=\"0 0 24 24\"\n",
              "       width=\"24px\">\n",
              "    <path d=\"M0 0h24v24H0V0z\" fill=\"none\"/>\n",
              "    <path d=\"M18.56 5.44l.94 2.06.94-2.06 2.06-.94-2.06-.94-.94-2.06-.94 2.06-2.06.94zm-11 1L8.5 8.5l.94-2.06 2.06-.94-2.06-.94L8.5 2.5l-.94 2.06-2.06.94zm10 10l.94 2.06.94-2.06 2.06-.94-2.06-.94-.94-2.06-.94 2.06-2.06.94z\"/><path d=\"M17.41 7.96l-1.37-1.37c-.4-.4-.92-.59-1.43-.59-.52 0-1.04.2-1.43.59L10.3 9.45l-7.72 7.72c-.78.78-.78 2.05 0 2.83L4 21.41c.39.39.9.59 1.41.59.51 0 1.02-.2 1.41-.59l7.78-7.78 2.81-2.81c.8-.78.8-2.07 0-2.86zM5.41 20L4 18.59l7.72-7.72 1.47 1.35L5.41 20z\"/>\n",
              "  </svg>\n",
              "      </button>\n",
              "      \n",
              "  <style>\n",
              "    .colab-df-container {\n",
              "      display:flex;\n",
              "      flex-wrap:wrap;\n",
              "      gap: 12px;\n",
              "    }\n",
              "\n",
              "    .colab-df-convert {\n",
              "      background-color: #E8F0FE;\n",
              "      border: none;\n",
              "      border-radius: 50%;\n",
              "      cursor: pointer;\n",
              "      display: none;\n",
              "      fill: #1967D2;\n",
              "      height: 32px;\n",
              "      padding: 0 0 0 0;\n",
              "      width: 32px;\n",
              "    }\n",
              "\n",
              "    .colab-df-convert:hover {\n",
              "      background-color: #E2EBFA;\n",
              "      box-shadow: 0px 1px 2px rgba(60, 64, 67, 0.3), 0px 1px 3px 1px rgba(60, 64, 67, 0.15);\n",
              "      fill: #174EA6;\n",
              "    }\n",
              "\n",
              "    [theme=dark] .colab-df-convert {\n",
              "      background-color: #3B4455;\n",
              "      fill: #D2E3FC;\n",
              "    }\n",
              "\n",
              "    [theme=dark] .colab-df-convert:hover {\n",
              "      background-color: #434B5C;\n",
              "      box-shadow: 0px 1px 3px 1px rgba(0, 0, 0, 0.15);\n",
              "      filter: drop-shadow(0px 1px 2px rgba(0, 0, 0, 0.3));\n",
              "      fill: #FFFFFF;\n",
              "    }\n",
              "  </style>\n",
              "\n",
              "      <script>\n",
              "        const buttonEl =\n",
              "          document.querySelector('#df-4f6dac30-d9d4-40eb-9da1-e58d88e88476 button.colab-df-convert');\n",
              "        buttonEl.style.display =\n",
              "          google.colab.kernel.accessAllowed ? 'block' : 'none';\n",
              "\n",
              "        async function convertToInteractive(key) {\n",
              "          const element = document.querySelector('#df-4f6dac30-d9d4-40eb-9da1-e58d88e88476');\n",
              "          const dataTable =\n",
              "            await google.colab.kernel.invokeFunction('convertToInteractive',\n",
              "                                                     [key], {});\n",
              "          if (!dataTable) return;\n",
              "\n",
              "          const docLinkHtml = 'Like what you see? Visit the ' +\n",
              "            '<a target=\"_blank\" href=https://colab.research.google.com/notebooks/data_table.ipynb>data table notebook</a>'\n",
              "            + ' to learn more about interactive tables.';\n",
              "          element.innerHTML = '';\n",
              "          dataTable['output_type'] = 'display_data';\n",
              "          await google.colab.output.renderOutput(dataTable, element);\n",
              "          const docLink = document.createElement('div');\n",
              "          docLink.innerHTML = docLinkHtml;\n",
              "          element.appendChild(docLink);\n",
              "        }\n",
              "      </script>\n",
              "    </div>\n",
              "  </div>\n",
              "  "
            ]
          },
          "metadata": {},
          "execution_count": 63
        }
      ]
    },
    {
      "cell_type": "code",
      "source": [
        "plt.figure(figsize=(10,5))\n",
        "ax = sns.barplot(y=\"Model\", x=\"F1_Score\", data = performance, color = \"green\", alpha = 0.4)\n",
        "sns.despine(top=True, right=True, left=False, bottom=True)\n",
        "for rect in ax.patches:\n",
        "    ax.text (rect.get_width(), rect.get_y() + rect.get_height() / 2,\"%.2f\"% rect.get_width(), weight='bold',ha = 'left', va = 'center')\n",
        "plt.show()"
      ],
      "metadata": {
        "colab": {
          "base_uri": "https://localhost:8080/",
          "height": 335
        },
        "id": "YfLaDDT1S3EB",
        "outputId": "c5a671b0-61bf-4a92-e982-7a43a95893e4"
      },
      "id": "YfLaDDT1S3EB",
      "execution_count": null,
      "outputs": [
        {
          "output_type": "display_data",
          "data": {
            "text/plain": [
              "<Figure size 720x360 with 1 Axes>"
            ],
            "image/png": "[encoded data removed]"
          },
          "metadata": {
            "needs_background": "light"
          }
        }
      ]
    },
    {
      "cell_type": "markdown",
      "source": [
        "### **ROC Curve**"
      ],
      "metadata": {
        "id": "e38ES_ILURM9"
      },
      "id": "e38ES_ILURM9"
    },
    {
      "cell_type": "code",
      "source": [
        "from sklearn.preprocessing import label_binarize\n",
        "#binarize the y_values\n",
        "\n",
        "y_test_binarized=label_binarize(y_test,classes=np.unique(y_test))\n",
        "\n",
        "# roc curve for classes\n",
        "fpr = {}\n",
        "tpr = {}\n",
        "thresh ={}\n",
        "roc_auc = dict()\n",
        "\n",
        "n_class = classes.shape[0]\n",
        "\n",
        "for i in range(n_class):    \n",
        "    fpr[i], tpr[i], thresh[i] = roc_curve(y_test_binarized[:,i], pred_prob[:,i])\n",
        "    roc_auc[i] = auc(fpr[i], tpr[i])\n",
        "    \n",
        "    # plotting    \n",
        "    plt.plot(fpr[i], tpr[i], linestyle='--', \n",
        "             label='%s vs Rest (AUC=%0.2f)'%(classes[i],roc_auc[i]))\n",
        "\n",
        "\n",
        "plt.plot([0,1],[0,1],'b--')\n",
        "plt.xlim([0,1])\n",
        "plt.ylim([0,1.05])\n",
        "plt.title('Multiclass ROC curve')\n",
        "plt.xlabel('False Positive Rate')\n",
        "plt.ylabel('True Positive rate')\n",
        "plt.legend(loc='lower right')\n",
        "plt.show()"
      ],
      "metadata": {
        "colab": {
          "base_uri": "https://localhost:8080/",
          "height": 295
        },
        "id": "JfI4jX7rVrx-",
        "outputId": "24d4c278-3440-461f-cfb9-e7fa9d828c2f"
      },
      "id": "JfI4jX7rVrx-",
      "execution_count": null,
      "outputs": [
        {
          "output_type": "display_data",
          "data": {
            "text/plain": [
              "<Figure size 432x288 with 1 Axes>"
            ],
            "image/png": "[encoded data removed]"
          },
          "metadata": {
            "needs_background": "light"
          }
        }
      ]
    },
    {
      "cell_type": "markdown",
      "source": [
        "### **Best Model**\n",
        "\n",
        "After training each of the models, these are the final results. The scores for KNN, Voting Classifier and XGBOOST models are very promising for our dataset! Each model has a 0.99% recall scorce and high F1 score, which is exactly what we’re looking for. This means wthe models capture more cancer disease, but also flag some normal situations as cancer. An experimental test can then been used to confirm this claim.\n",
        " \n",
        "**XGBoost is our final model, as this give highest F1 score of 99.9% on test datasets.**"
      ],
      "metadata": {
        "id": "VPJzViw5NSo8"
      },
      "id": "VPJzViw5NSo8"
    },
    {
      "cell_type": "code",
      "source": [],
      "metadata": {
        "id": "aX2Hcl8fT8SA"
      },
      "id": "aX2Hcl8fT8SA",
      "execution_count": null,
      "outputs": []
    }
  ],
  "metadata": {
    "kernelspec": {
      "display_name": "Python 3 (ipykernel)",
      "language": "python",
      "name": "python3"
    },
    "language_info": {
      "codemirror_mode": {
        "name": "ipython",
        "version": 3
      },
      "file_extension": ".py",
      "mimetype": "text/x-python",
      "name": "python",
      "nbconvert_exporter": "python",
      "pygments_lexer": "ipython3",
      "version": "3.9.12"
    },
    "colab": {
      "provenance": [],
      "collapsed_sections": [
        "91f3dde3",
        "b45976a3",
        "e214ad93",
        "wS5BbRoZqiV-",
        "7a0e165b",
        "t-r4DZ-Frm7_",
        "988beea5",
        "7ca03b28",
        "5153115e",
        "58c6d53d",
        "2811365c",
        "3dccc82d",
        "08fbc80a",
        "4nJKHVtWGZhv",
        "gaWWiVzKGJrV",
        "a3fa010b",
        "f1dc4a1a",
        "e38ES_ILURM9",
        "VPJzViw5NSo8"
      ]
    }
  },
  "nbformat": 4,
  "nbformat_minor": 5
}